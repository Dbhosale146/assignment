{
 "cells": [
  {
   "cell_type": "markdown",
   "metadata": {},
   "source": [
    "Write a Python program to convert kilometers to miles?"
   ]
  },
  {
   "cell_type": "code",
   "execution_count": 2,
   "metadata": {},
   "outputs": [
    {
     "name": "stdout",
     "output_type": "stream",
     "text": [
      "Enter the kilometers value120\n",
      "74.56452\n"
     ]
    }
   ],
   "source": [
    "k=float(input(\"Enter the kilometers value\"))\n",
    "con_fac= 0.621371\n",
    "#calculate miles \n",
    "melis=k*con_fac\n",
    "print(melis)"
   ]
  },
  {
   "cell_type": "markdown",
   "metadata": {},
   "source": [
    "Write a Python program to convert Celsius to Fahrenheit?"
   ]
  },
  {
   "cell_type": "code",
   "execution_count": 3,
   "metadata": {},
   "outputs": [
    {
     "name": "stdout",
     "output_type": "stream",
     "text": [
      "enter the celsius value12\n"
     ]
    },
    {
     "data": {
      "text/plain": [
       "53.6"
      ]
     },
     "execution_count": 3,
     "metadata": {},
     "output_type": "execute_result"
    }
   ],
   "source": [
    "c=float(input('enter the celsius value'))\n",
    "f=(c*1.8)+32\n",
    "f"
   ]
  },
  {
   "cell_type": "markdown",
   "metadata": {},
   "source": [
    "Write a Python program to display calendar?"
   ]
  },
  {
   "cell_type": "code",
   "execution_count": 5,
   "metadata": {},
   "outputs": [
    {
     "name": "stdout",
     "output_type": "stream",
     "text": [
      "   December 2021\n",
      "Mo Tu We Th Fr Sa Su\n",
      "       1  2  3  4  5\n",
      " 6  7  8  9 10 11 12\n",
      "13 14 15 16 17 18 19\n",
      "20 21 22 23 24 25 26\n",
      "27 28 29 30 31\n",
      "\n"
     ]
    }
   ],
   "source": [
    "import calendar\n",
    "y=2021\n",
    "m=12\n",
    "# display the calendar\n",
    "print(calendar.month(y,m))"
   ]
  },
  {
   "cell_type": "markdown",
   "metadata": {},
   "source": [
    "Write a Python program to solve quadratic equation?"
   ]
  },
  {
   "cell_type": "code",
   "execution_count": 10,
   "metadata": {},
   "outputs": [
    {
     "name": "stdout",
     "output_type": "stream",
     "text": [
      "a10\n",
      "b5\n",
      "c2\n",
      "frist solution is.(-0.25-0.9874208829065749j)\n",
      "second solution is.(-0.25+0.9874208829065749j)\n"
     ]
    }
   ],
   "source": [
    "import cmath\n",
    "a=float(input('a'))\n",
    "b=float(input('b'))\n",
    "c=float(input('c'))\n",
    "x=(b*2)-(4*a*a)\n",
    "#solutions\n",
    "s1=(-b-cmath.sqrt(x))/(2*a)\n",
    "s2=(-b+cmath.sqrt(x))/(2*a)\n",
    "print('frist solution is.{}'.format(s1))    \n",
    "print('second solution is.{}'.format(s2))   "
   ]
  },
  {
   "cell_type": "markdown",
   "metadata": {},
   "source": [
    "Write a Python program to swap two variables without temp variable?"
   ]
  },
  {
   "cell_type": "code",
   "execution_count": 16,
   "metadata": {},
   "outputs": [
    {
     "name": "stdout",
     "output_type": "stream",
     "text": [
      "x25\n",
      "y20\n",
      "a is: 20.0 b is: 25.0\n"
     ]
    }
   ],
   "source": [
    "a=float(input('x'))\n",
    "b=float(input('y'))\n",
    "a=a+b\n",
    "b=a-b\n",
    "a=a-b\n",
    "print('a is:',a,'b is:',b)"
   ]
  },
  {
   "cell_type": "code",
   "execution_count": null,
   "metadata": {},
   "outputs": [],
   "source": []
  }
 ],
 "metadata": {
  "kernelspec": {
   "display_name": "Python 3",
   "language": "python",
   "name": "python3"
  },
  "language_info": {
   "codemirror_mode": {
    "name": "ipython",
    "version": 3
   },
   "file_extension": ".py",
   "mimetype": "text/x-python",
   "name": "python",
   "nbconvert_exporter": "python",
   "pygments_lexer": "ipython3",
   "version": "3.8.3"
  }
 },
 "nbformat": 4,
 "nbformat_minor": 4
}
