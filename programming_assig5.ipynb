{
 "cells": [
  {
   "cell_type": "markdown",
   "metadata": {},
   "source": [
    "Write a Python Program to Find LCM?\n",
    "  "
   ]
  },
  {
   "cell_type": "code",
   "execution_count": 1,
   "metadata": {},
   "outputs": [
    {
     "name": "stdout",
     "output_type": "stream",
     "text": [
      "n1 : 25\n",
      "n2:52\n",
      "The lcm is 1300\n"
     ]
    }
   ],
   "source": [
    "def lcm(x,y):\n",
    "    if x>y:\n",
    "        g=x\n",
    "    else:\n",
    "        g=y\n",
    "    while (True):\n",
    "        if ((g%x==0)and(g%y==0)):\n",
    "            l=g\n",
    "            break\n",
    "        g+=1\n",
    "    return l\n",
    "n1= int(input('n1 : '))\n",
    "n2=int(input('n2:'))\n",
    "print('The lcm is', lcm(n1,n2))"
   ]
  },
  {
   "cell_type": "markdown",
   "metadata": {},
   "source": [
    "Write a Python Program to Find HCF?"
   ]
  },
  {
   "cell_type": "code",
   "execution_count": 12,
   "metadata": {},
   "outputs": [
    {
     "name": "stdout",
     "output_type": "stream",
     "text": [
      "n1 : 50\n",
      "n2:75\n",
      "The hcf is 25\n"
     ]
    }
   ],
   "source": [
    "def hcf(x,y):\n",
    "    if x>y:\n",
    "        s=x\n",
    "    else:\n",
    "        s=y\n",
    "    for i in range(1,s+1):\n",
    "        if ((x%i==0)and(y%i==0)):\n",
    "            h=i\n",
    "    return h\n",
    "n1= int(input('n1 : '))\n",
    "n2=int(input('n2:'))\n",
    "print('The hcf is', hcf(n1,n2))"
   ]
  },
  {
   "cell_type": "markdown",
   "metadata": {},
   "source": [
    "Write a Python Program to Convert Decimal to Binary, Octal and Hexadecimal?"
   ]
  },
  {
   "cell_type": "code",
   "execution_count": 15,
   "metadata": {},
   "outputs": [
    {
     "name": "stdout",
     "output_type": "stream",
     "text": [
      "Enter the x value : 4556874\n",
      "0b10001011000100001001010 in binary\n",
      "0o21304112 in octal\n",
      "0x45884a in hexadecimal\n"
     ]
    }
   ],
   "source": [
    "x=int(input('Enter the x value : '))\n",
    "print(bin(x),'in binary')\n",
    "print(oct(x),'in octal')\n",
    "print(hex(x),'in hexadecimal')"
   ]
  },
  {
   "cell_type": "markdown",
   "metadata": {},
   "source": [
    "Write a Python Program To Find ASCII value of a character?"
   ]
  },
  {
   "cell_type": "code",
   "execution_count": 16,
   "metadata": {},
   "outputs": [
    {
     "name": "stdout",
     "output_type": "stream",
     "text": [
      "The ASCII value of 'p' is 112\n"
     ]
    }
   ],
   "source": [
    "c = 'p'\n",
    "print(\"The ASCII value of '\" + c + \"' is\", ord(c))"
   ]
  },
  {
   "cell_type": "markdown",
   "metadata": {},
   "source": [
    "Write a Python Program to Make a Simple Calculator with 4 basic mathematical operations?"
   ]
  },
  {
   "cell_type": "code",
   "execution_count": 19,
   "metadata": {},
   "outputs": [
    {
     "name": "stdout",
     "output_type": "stream",
     "text": [
      "enter the value of x : 25\n",
      "enter the value of x: 60\n",
      "opration: , + ,- ,*,/\n",
      "select above opration: /\n",
      "25.0 / 60.0 = 0.4166666666666667\n"
     ]
    }
   ],
   "source": [
    "n1=float(input('enter the value of x : '))\n",
    "n2=float(input('enter the value of x: '))\n",
    "print('opration: , + ,- ,*,/')\n",
    "select = input('select above opration: ')\n",
    "if select =='+':\n",
    "    print(n1,'+',n2,'=',n1+n2)\n",
    "elif select=='-':\n",
    "    print(n1,'-',n2,'=',n1-n2)\n",
    "elif select=='*':\n",
    "    print(n1,'*',n2,'=',n1*n2)\n",
    "elif select=='/':\n",
    "    print(n1,'/',n2,'=',n1/n2)"
   ]
  },
  {
   "cell_type": "code",
   "execution_count": null,
   "metadata": {},
   "outputs": [],
   "source": []
  }
 ],
 "metadata": {
  "kernelspec": {
   "display_name": "Python 3",
   "language": "python",
   "name": "python3"
  },
  "language_info": {
   "codemirror_mode": {
    "name": "ipython",
    "version": 3
   },
   "file_extension": ".py",
   "mimetype": "text/x-python",
   "name": "python",
   "nbconvert_exporter": "python",
   "pygments_lexer": "ipython3",
   "version": "3.8.3"
  }
 },
 "nbformat": 4,
 "nbformat_minor": 4
}
