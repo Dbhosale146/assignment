{
 "cells": [
  {
   "cell_type": "markdown",
   "metadata": {},
   "source": [
    "1. Write a Python Program to find sum of array?\n"
   ]
  },
  {
   "cell_type": "code",
   "execution_count": 8,
   "metadata": {},
   "outputs": [
    {
     "name": "stdout",
     "output_type": "stream",
     "text": [
      "sum of the array is  16\n"
     ]
    }
   ],
   "source": [
    "import array as ar\n",
    "def sumofarray(arr):\n",
    "    sum = 0\n",
    "    n=len(arr)\n",
    "    for i in range (n):\n",
    "        sum= sum+ arr[i]\n",
    "    return sum \n",
    "a = ar.array('i',[0, 2, 1, 13])\n",
    "print('sum of the array is ', sumofarray(a))"
   ]
  },
  {
   "cell_type": "markdown",
   "metadata": {},
   "source": [
    "2. Write a Python Program to find largest element in an array?"
   ]
  },
  {
   "cell_type": "code",
   "execution_count": 33,
   "metadata": {},
   "outputs": [
    {
     "name": "stdout",
     "output_type": "stream",
     "text": [
      "Largest element given un array is  45855\n"
     ]
    }
   ],
   "source": [
    "import array as ar\n",
    "def larray(a):\n",
    "    n=len(a)\n",
    "    m= a[0]\n",
    "    for i in range(1,n):\n",
    "        if a[i]>m:\n",
    "            m=a[i]\n",
    "    return m\n",
    "a=[25,35,45,6,58,155,45855,]\n",
    "print('Largest element given un array is ',larray(a))"
   ]
  },
  {
   "cell_type": "markdown",
   "metadata": {},
   "source": [
    "3. Write a Python Program for array rotation?"
   ]
  },
  {
   "cell_type": "code",
   "execution_count": 36,
   "metadata": {},
   "outputs": [
    {
     "name": "stdout",
     "output_type": "stream",
     "text": [
      "Array after left rotation is:  [6, 7, 1, 2, 3, 4, 5]\n"
     ]
    }
   ],
   "source": [
    "def rarray(a,n,d):\n",
    "    temp=[]\n",
    "    i = 0\n",
    "    while (i<d):\n",
    "        temp.append(a[i])\n",
    "        i=i+1\n",
    "    i=0\n",
    "    while (d<n):\n",
    "        a[i]=a[d]\n",
    "        i =i+1\n",
    "        d=d+1\n",
    "    a[:]=a[:i]+temp\n",
    "    return a\n",
    "a = [1, 2, 3, 4, 5, 6, 7]\n",
    "print(\"Array after left rotation is: \", end=' ')\n",
    "print(rarray(a, len(a), 5))"
   ]
  },
  {
   "cell_type": "markdown",
   "metadata": {},
   "source": [
    "4. Write a Python Program to Split the array and add the first part to the end?"
   ]
  },
  {
   "cell_type": "code",
   "execution_count": 41,
   "metadata": {},
   "outputs": [
    {
     "name": "stdout",
     "output_type": "stream",
     "text": [
      "5 6 52 36 12 10 "
     ]
    }
   ],
   "source": [
    "def spltarray(arr,n,k):\n",
    "    for i in range(0,k):\n",
    "        x=arr[0]\n",
    "        for j in range(0,n-1):\n",
    "            arr[j]=arr[j+1]\n",
    "        arr[n-1]=x\n",
    "arr=[12,10,5,6,52,36]\n",
    "n= len(arr)\n",
    "p=2\n",
    "spltarray(arr,n,p)\n",
    "for i in range (0,n):\n",
    "    print(arr[i],end = ' ')"
   ]
  },
  {
   "cell_type": "markdown",
   "metadata": {},
   "source": [
    "5. Write a Python Program to check if given array is Monotonic?"
   ]
  },
  {
   "cell_type": "code",
   "execution_count": 44,
   "metadata": {},
   "outputs": [
    {
     "name": "stdout",
     "output_type": "stream",
     "text": [
      "True\n"
     ]
    }
   ],
   "source": [
    "def ismonotonic(A):\n",
    "    return (all(A[i] <= A[i + 1] for i in range(len(A) - 1)) or\n",
    "            all(A[i] >= A[i + 1] for i in range(len(A) - 1)))\n",
    "A=[6,5,4,3]\n",
    "print(ismonotonic(A))\n",
    "    "
   ]
  },
  {
   "cell_type": "code",
   "execution_count": null,
   "metadata": {},
   "outputs": [],
   "source": []
  }
 ],
 "metadata": {
  "kernelspec": {
   "display_name": "Python 3",
   "language": "python",
   "name": "python3"
  },
  "language_info": {
   "codemirror_mode": {
    "name": "ipython",
    "version": 3
   },
   "file_extension": ".py",
   "mimetype": "text/x-python",
   "name": "python",
   "nbconvert_exporter": "python",
   "pygments_lexer": "ipython3",
   "version": "3.8.3"
  }
 },
 "nbformat": 4,
 "nbformat_minor": 4
}
