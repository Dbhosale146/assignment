{
 "cells": [
  {
   "cell_type": "markdown",
   "metadata": {},
   "source": [
    "Write a Python Program to Find the Factorial of a Number?\n"
   ]
  },
  {
   "cell_type": "code",
   "execution_count": 2,
   "metadata": {},
   "outputs": [
    {
     "name": "stdout",
     "output_type": "stream",
     "text": [
      "a25\n",
      "factorial of  25 is 15511210043330985984000000\n"
     ]
    }
   ],
   "source": [
    "a= int(input('a'))\n",
    "f=1\n",
    "if a<0:\n",
    "    print('for negatve number factorial does not exist')\n",
    "elif a==0:\n",
    "    print('factorial of zero is 1')\n",
    "else:\n",
    "    for i in range(1,a+1):\n",
    "        f=f*i\n",
    "    print('factorial of ',a,'is',f)\n"
   ]
  },
  {
   "cell_type": "markdown",
   "metadata": {},
   "source": [
    "Write a Python Program to Display the multiplication Table?"
   ]
  },
  {
   "cell_type": "code",
   "execution_count": 3,
   "metadata": {},
   "outputs": [
    {
     "name": "stdout",
     "output_type": "stream",
     "text": [
      "a125\n",
      "125 x 1 = 125\n",
      "125 x 2 = 250\n",
      "125 x 3 = 375\n",
      "125 x 4 = 500\n",
      "125 x 5 = 625\n",
      "125 x 6 = 750\n",
      "125 x 7 = 875\n",
      "125 x 8 = 1000\n",
      "125 x 9 = 1125\n",
      "125 x 10 = 1250\n",
      "125 x 11 = 1375\n",
      "125 x 12 = 1500\n",
      "125 x 13 = 1625\n",
      "125 x 14 = 1750\n",
      "125 x 15 = 1875\n",
      "125 x 16 = 2000\n",
      "125 x 17 = 2125\n",
      "125 x 18 = 2250\n",
      "125 x 19 = 2375\n",
      "125 x 20 = 2500\n",
      "125 x 21 = 2625\n",
      "125 x 22 = 2750\n",
      "125 x 23 = 2875\n",
      "125 x 24 = 3000\n",
      "125 x 25 = 3125\n",
      "125 x 26 = 3250\n",
      "125 x 27 = 3375\n",
      "125 x 28 = 3500\n",
      "125 x 29 = 3625\n",
      "125 x 30 = 3750\n",
      "125 x 31 = 3875\n",
      "125 x 32 = 4000\n",
      "125 x 33 = 4125\n",
      "125 x 34 = 4250\n",
      "125 x 35 = 4375\n",
      "125 x 36 = 4500\n",
      "125 x 37 = 4625\n",
      "125 x 38 = 4750\n",
      "125 x 39 = 4875\n",
      "125 x 40 = 5000\n",
      "125 x 41 = 5125\n",
      "125 x 42 = 5250\n",
      "125 x 43 = 5375\n",
      "125 x 44 = 5500\n",
      "125 x 45 = 5625\n",
      "125 x 46 = 5750\n",
      "125 x 47 = 5875\n",
      "125 x 48 = 6000\n",
      "125 x 49 = 6125\n",
      "125 x 50 = 6250\n",
      "125 x 51 = 6375\n",
      "125 x 52 = 6500\n",
      "125 x 53 = 6625\n",
      "125 x 54 = 6750\n",
      "125 x 55 = 6875\n",
      "125 x 56 = 7000\n",
      "125 x 57 = 7125\n",
      "125 x 58 = 7250\n",
      "125 x 59 = 7375\n",
      "125 x 60 = 7500\n",
      "125 x 61 = 7625\n",
      "125 x 62 = 7750\n",
      "125 x 63 = 7875\n",
      "125 x 64 = 8000\n",
      "125 x 65 = 8125\n",
      "125 x 66 = 8250\n",
      "125 x 67 = 8375\n",
      "125 x 68 = 8500\n",
      "125 x 69 = 8625\n",
      "125 x 70 = 8750\n",
      "125 x 71 = 8875\n",
      "125 x 72 = 9000\n",
      "125 x 73 = 9125\n",
      "125 x 74 = 9250\n",
      "125 x 75 = 9375\n",
      "125 x 76 = 9500\n",
      "125 x 77 = 9625\n",
      "125 x 78 = 9750\n",
      "125 x 79 = 9875\n",
      "125 x 80 = 10000\n",
      "125 x 81 = 10125\n",
      "125 x 82 = 10250\n",
      "125 x 83 = 10375\n",
      "125 x 84 = 10500\n",
      "125 x 85 = 10625\n",
      "125 x 86 = 10750\n",
      "125 x 87 = 10875\n",
      "125 x 88 = 11000\n",
      "125 x 89 = 11125\n",
      "125 x 90 = 11250\n",
      "125 x 91 = 11375\n",
      "125 x 92 = 11500\n",
      "125 x 93 = 11625\n",
      "125 x 94 = 11750\n",
      "125 x 95 = 11875\n",
      "125 x 96 = 12000\n",
      "125 x 97 = 12125\n",
      "125 x 98 = 12250\n",
      "125 x 99 = 12375\n",
      "125 x 100 = 12500\n"
     ]
    }
   ],
   "source": [
    "a=int(input('a'))\n",
    "for i in range (1,101):\n",
    "    print(a,'x',i,'=',a*i)"
   ]
  },
  {
   "cell_type": "markdown",
   "metadata": {},
   "source": [
    "Write a Python Program to Print the Fibonacci sequence?"
   ]
  },
  {
   "cell_type": "code",
   "execution_count": 7,
   "metadata": {},
   "outputs": [
    {
     "name": "stdout",
     "output_type": "stream",
     "text": [
      "enter the n values  15\n",
      "0\n",
      "1\n",
      "1\n",
      "2\n",
      "3\n",
      "5\n",
      "8\n",
      "13\n",
      "21\n",
      "34\n",
      "55\n",
      "89\n",
      "144\n",
      "233\n",
      "377\n"
     ]
    }
   ],
   "source": [
    "n=int(input('enter the n values  '))\n",
    "n1=0\n",
    "n2=1\n",
    "count=0\n",
    "if n<=0:\n",
    "    print('Enter the a positive number')\n",
    "elif n==1:\n",
    "    print('fibonacci squence upto',n,':')\n",
    "    print(n1)\n",
    "else:\n",
    "    while count < n:\n",
    "        print(n1)\n",
    "        nth=n1+n2\n",
    "        n1=n2\n",
    "        n2=nth\n",
    "        count+=1"
   ]
  },
  {
   "cell_type": "markdown",
   "metadata": {},
   "source": [
    "Write a Python Program to Check Armstrong Number?"
   ]
  },
  {
   "cell_type": "code",
   "execution_count": 13,
   "metadata": {},
   "outputs": [
    {
     "name": "stdout",
     "output_type": "stream",
     "text": [
      "Enter a number : 125445\n",
      "125445 is a not Armstrong number\n"
     ]
    }
   ],
   "source": [
    "n=int(input('Enter a number : '))\n",
    "sum=0\n",
    "temp=n\n",
    "while temp>0:\n",
    "    digit = temp% 10\n",
    "    sum += digit**3\n",
    "    temp//=10\n",
    "if n==sum:\n",
    "    print(n,'is a Armstrong number ')\n",
    "else:\n",
    "    print(n,'is a not Armstrong number')"
   ]
  },
  {
   "cell_type": "markdown",
   "metadata": {},
   "source": [
    "Write a Python Program to Find Armstrong Number in an Interval?"
   ]
  },
  {
   "cell_type": "code",
   "execution_count": null,
   "metadata": {},
   "outputs": [
    {
     "name": "stdout",
     "output_type": "stream",
     "text": [
      "Enter the Lower limit: 10\n",
      "Enter the upper limit: 125455622\n",
      "153\n",
      "370\n",
      "371\n",
      "407\n",
      "1634\n",
      "8208\n",
      "9474\n",
      "54748\n",
      "92727\n",
      "93084\n",
      "548834\n",
      "1741725\n",
      "4210818\n",
      "9800817\n",
      "9926315\n",
      "24678050\n",
      "24678051\n"
     ]
    }
   ],
   "source": [
    "lower = int(input(\"Enter the Lower limit: \"))\n",
    "upper = int(input(\"Enter the upper limit: \"))\n",
    "for i in range(lower,upper+1):\n",
    "    power = len(str(i))\n",
    "    sum=0\n",
    "    temp = i\n",
    "    while temp >0:\n",
    "        digit=temp%10\n",
    "        sum+=digit**power\n",
    "        temp//=10\n",
    "    if i==sum:\n",
    "        print(i)\n",
    "    "
   ]
  },
  {
   "cell_type": "markdown",
   "metadata": {},
   "source": [
    "Write a Python Program to Find the Sum of Natural Numbers?"
   ]
  },
  {
   "cell_type": "code",
   "execution_count": 2,
   "metadata": {},
   "outputs": [
    {
     "name": "stdout",
     "output_type": "stream",
     "text": [
      " value of n is : 25\n",
      "The sum is  325\n"
     ]
    }
   ],
   "source": [
    "num= int(input(' value of n is : '))\n",
    "if num<0:\n",
    "    print('please enter the positive number ')\n",
    "else:\n",
    "    sum=0\n",
    "    while(num>0):\n",
    "        sum+=num\n",
    "        num-=1\n",
    "    print('The sum is ', sum)"
   ]
  },
  {
   "cell_type": "code",
   "execution_count": null,
   "metadata": {},
   "outputs": [],
   "source": []
  }
 ],
 "metadata": {
  "kernelspec": {
   "display_name": "Python 3",
   "language": "python",
   "name": "python3"
  }
 },
 "nbformat": 4,
 "nbformat_minor": 4
}
